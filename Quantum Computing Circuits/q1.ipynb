{
 "cells": [
  {
   "cell_type": "code",
   "execution_count": 153,
   "id": "2d8b818f",
   "metadata": {
    "deletable": false,
    "editable": false
   },
   "outputs": [],
   "source": [
    "# Initialize Otter\n",
    "import otter\n",
    "grader = otter.Notebook(\"q1.ipynb\")"
   ]
  },
  {
   "cell_type": "markdown",
   "id": "cac5f1f3",
   "metadata": {},
   "source": [
    "# Qiskit Assignment 1\n",
    "## Single Qubit Circuits\n",
    "\n",
    "### Learning Objectives\n",
    "1. Build Pauli gates from Qiskit's U gate\n",
    "2. Use the U gate to reverse a series of operations\n",
    "3. Work with various rotations on the bloch sphere\n",
    "4. Understand IBM's circuit transpilation process\n",
    "\n",
    "### Resources\n",
    "Qiskit assignments are designed to be collaborative and open internet. Where possible, links to useful documentation will be embedded within questions. You're free to discuss these tasks with TAs and peers, but do write your own solutions. For some questions, there may be additional restrictions on the ways you can solve them. To ensure compliance with course policies and assignment instructions, we reserve the right to inspect your code."
   ]
  },
  {
   "cell_type": "markdown",
   "id": "3d33979a",
   "metadata": {},
   "source": [
    "**NAME**: Sam Schwartz\n",
    "\n",
    "**STUDENT ID**: 488082"
   ]
  },
  {
   "cell_type": "code",
   "execution_count": 154,
   "id": "41a572a9",
   "metadata": {},
   "outputs": [],
   "source": [
    "# Import Qiskit and other needed packages\n",
    "from qiskit import *\n",
    "from qiskit.visualization import plot_histogram\n",
    "from qiskit.quantum_info import Statevector\n",
    "from qiskit.circuit.random import random_circuit\n",
    "import numpy as np\n",
    "import pprint\n",
    "import random"
   ]
  },
  {
   "cell_type": "markdown",
   "id": "1151ede2",
   "metadata": {},
   "source": [
    "#### Task 1 - Constructing Pauli Z gate from u Gate (10 pts)\n",
    "We can use [Qiskit's U Gate](https://qiskit.org/documentation/stubs/qiskit.circuit.QuantumCircuit.u.html#qiskit.circuit.QuantumCircuit.u) to construct arbitrary quantum operations. Fill in the function below to return a circuit with\n",
    "- 1 qubit, [initialized](https://qiskit.org/documentation/stubs/qiskit.circuit.QuantumCircuit.initialize.html#qiskit.circuit.QuantumCircuit.initialize) to the parameter `initial_state`\n",
    "- 1 classical bit\n",
    "- a U gate with parameters which perform the same rotation as a Pauli Z gate\n",
    "- a measurement following the rotation\n",
    "\n",
    "Note: Your solution may not include the Qiskit Z gate."
   ]
  },
  {
   "cell_type": "code",
   "execution_count": 155,
   "id": "5f5f78f0",
   "metadata": {
    "tags": []
   },
   "outputs": [],
   "source": [
    "def qc_pauli_z(initial_state=[1,0]):\n",
    "    qc = QuantumCircuit(1,1)\n",
    "    qc.initialize(initial_state, 0)\n",
    "    ## Z = [1,0\n",
    "        ## 0,-1]\n",
    "    qc.u(0,0,np.pi,0)\n",
    "    qc.measure([0],[0])\n",
    "    return qc"
   ]
  },
  {
   "cell_type": "code",
   "execution_count": 156,
   "id": "0f10bbf7",
   "metadata": {
    "tags": []
   },
   "outputs": [
    {
     "data": {
      "image/png": "[encoded data removed]",
      "text/plain": [
       "<Figure size 253.926x144.48 with 1 Axes>"
      ]
     },
     "execution_count": 156,
     "metadata": {},
     "output_type": "execute_result"
    }
   ],
   "source": [
    "qc_pauli_z().draw(output='mpl')"
   ]
  },
  {
   "cell_type": "code",
   "execution_count": 157,
   "id": "fbbc59be",
   "metadata": {
    "deletable": false,
    "editable": false
   },
   "outputs": [
    {
     "data": {
      "text/html": [
       "<p><strong><pre style='display: inline;'>Task 1</pre></strong> passed!</p>"
      ],
      "text/plain": [
       "Task 1 results: All test cases passed!"
      ]
     },
     "execution_count": 157,
     "metadata": {},
     "output_type": "execute_result"
    }
   ],
   "source": [
    "grader.check(\"Task 1\")"
   ]
  },
  {
   "cell_type": "markdown",
   "id": "00d05fb4",
   "metadata": {},
   "source": [
    "#### Task 2 (2A, 2B, 2C) - Unitary Inverse Puzzles (30 pts)"
   ]
  },
  {
   "cell_type": "markdown",
   "id": "4f87b678",
   "metadata": {},
   "source": [
    "We'll study the idea of [uncomputation](https://qiskit.org/textbook/ch-algorithms/grover.html#5.2-Uncomputing,-and-Completing-the-Oracle) during our discussion of quantum algorithms. In general, we may find it helpful to return a qubit to its initial state. \n",
    "\n",
    "This process is typically straightforward due to the properties of unitary gates. However, your task is to do so using a single U gate. Complete the partial circuits below such that the measurements yield a state equivalent to `initial_state` *up to a global phase*."
   ]
  },
  {
   "cell_type": "markdown",
   "id": "e8454f91",
   "metadata": {},
   "source": [
    "#### Task 2A"
   ]
  },
  {
   "cell_type": "code",
   "execution_count": 158,
   "id": "00206abd",
   "metadata": {
    "tags": []
   },
   "outputs": [],
   "source": [
    "def reverse_a(initial_state=[1,0]):\n",
    "    qc = QuantumCircuit(1,1)\n",
    "    qc.initialize(initial_state)\n",
    "    qc.x(0) ## 0,1\n",
    "    qc.h(0) ## 1/rt(2) , -1/rt(2)\n",
    "    qc.y(0) ## -1/rt(2), -1/rt(2)\n",
    "    qc.x(0) ## -1/rt(2), -1/rt(2)\n",
    "    qc.z(0) ## -1/rt(2) , 1/rt(2)\n",
    "    qc.barrier()\n",
    "    qc.u(np.pi * (3/2), np.pi, np.pi, 0)\n",
    "    qc.barrier()\n",
    "    qc.measure(0,0)\n",
    "    \n",
    "    return qc"
   ]
  },
  {
   "cell_type": "code",
   "execution_count": 159,
   "id": "b3a42d5a",
   "metadata": {
    "tags": []
   },
   "outputs": [
    {
     "data": {
      "image/png": "[encoded data removed]",
      "text/plain": [
       "<Figure size 675.326x144.48 with 1 Axes>"
      ]
     },
     "execution_count": 159,
     "metadata": {},
     "output_type": "execute_result"
    }
   ],
   "source": [
    "reverse_a().draw(output='mpl')"
   ]
  },
  {
   "cell_type": "code",
   "execution_count": 160,
   "id": "34bf1953",
   "metadata": {
    "deletable": false,
    "editable": false
   },
   "outputs": [
    {
     "data": {
      "text/html": [
       "<p><strong><pre style='display: inline;'>Task 2A</pre></strong> passed!</p>"
      ],
      "text/plain": [
       "Task 2A results: All test cases passed!"
      ]
     },
     "execution_count": 160,
     "metadata": {},
     "output_type": "execute_result"
    }
   ],
   "source": [
    "grader.check(\"Task 2A\")"
   ]
  },
  {
   "cell_type": "markdown",
   "id": "1065aaef",
   "metadata": {},
   "source": [
    "#### Task 2B"
   ]
  },
  {
   "cell_type": "code",
   "execution_count": 233,
   "id": "2a971db9",
   "metadata": {
    "tags": []
   },
   "outputs": [],
   "source": [
    "def reverse_b(initial_state=[1,0]):\n",
    "    qc = QuantumCircuit(1,1)\n",
    "    qc.initialize(initial_state)\n",
    "    for i in range(5):\n",
    "        qc.x(0) \n",
    "        qc.y(0) \n",
    "        qc.z(0) \n",
    "        qc.h(0)\n",
    "    qc.barrier()\n",
    "    qc.u(np.pi*(1/2), 0, np.pi, 0 )\n",
    "    qc.barrier()\n",
    "    qc.measure(0,0)\n",
    "    return qc"
   ]
  },
  {
   "cell_type": "code",
   "execution_count": 234,
   "id": "a716cd81",
   "metadata": {
    "tags": []
   },
   "outputs": [
    {
     "data": {
      "image/png": "[encoded data removed]",
      "text/plain": [
       "<Figure size 1578.33x144.48 with 1 Axes>"
      ]
     },
     "execution_count": 234,
     "metadata": {},
     "output_type": "execute_result"
    }
   ],
   "source": [
    "reverse_b().draw(output='mpl')"
   ]
  },
  {
   "cell_type": "code",
   "execution_count": 235,
   "id": "d6ec7b4e",
   "metadata": {
    "deletable": false,
    "editable": false
   },
   "outputs": [
    {
     "data": {
      "text/html": [
       "<p><strong><pre style='display: inline;'>Task 2B</pre></strong> passed!</p>"
      ],
      "text/plain": [
       "Task 2B results: All test cases passed!"
      ]
     },
     "execution_count": 235,
     "metadata": {},
     "output_type": "execute_result"
    }
   ],
   "source": [
    "grader.check(\"Task 2B\")"
   ]
  },
  {
   "cell_type": "markdown",
   "id": "989ca0e8",
   "metadata": {},
   "source": [
    "#### Task 2C\n",
    "\n",
    "**Hint**: The P gate generalizes rotation about the Z-axis to an arbitrary angle $\\phi$, where\n",
    "$P(\\phi)=\\begin{pmatrix} 1 & 0 \\\\ 0 & e^{i\\phi} \\end{pmatrix}$"
   ]
  },
  {
   "cell_type": "code",
   "execution_count": 641,
   "id": "2b657635",
   "metadata": {
    "tags": []
   },
   "outputs": [],
   "source": [
    "def reverse_c(initial_state=[1,0]):\n",
    "    qc = QuantumCircuit(1,1)\n",
    "    qc.initialize(initial_state)\n",
    "    qc.x(0)\n",
    "    for i in range(1,6):\n",
    "        qc.p((-1)**(i)*np.pi/(2**i), 0)\n",
    "    qc.z(0)\n",
    "    qc.barrier()\n",
    "    ## e^-11pi(i)/32\n",
    "    qc.u(-1*np.pi,0,(11/32)*np.pi,0)\n",
    "\n",
    "    qc.barrier()\n",
    "    qc.measure(0,0)\n",
    "    return qc"
   ]
  },
  {
   "cell_type": "code",
   "execution_count": 639,
   "id": "5935fbc6",
   "metadata": {
    "tags": []
   },
   "outputs": [
    {
     "data": {
      "image/png": "[encoded data removed]",
      "text/plain": [
       "<Figure size 855.926x144.48 with 1 Axes>"
      ]
     },
     "execution_count": 639,
     "metadata": {},
     "output_type": "execute_result"
    }
   ],
   "source": [
    "reverse_c().draw(output='mpl')"
   ]
  },
  {
   "cell_type": "code",
   "execution_count": 640,
   "id": "93f073f7",
   "metadata": {
    "deletable": false,
    "editable": false
   },
   "outputs": [
    {
     "data": {
      "text/html": [
       "<p><strong><pre style='display: inline;'>Task 2C</pre></strong> passed!</p>"
      ],
      "text/plain": [
       "Task 2C results: All test cases passed!"
      ]
     },
     "execution_count": 640,
     "metadata": {},
     "output_type": "execute_result"
    }
   ],
   "source": [
    "grader.check(\"Task 2C\")"
   ]
  },
  {
   "cell_type": "markdown",
   "id": "b9b7f741",
   "metadata": {},
   "source": [
    "<!-- BEGIN QUESTION -->\n",
    "\n",
    "#### Task 3 (3A, 3B, 3C) - Using Rotation to Obtain Probabilities (30 pts)"
   ]
  },
  {
   "cell_type": "markdown",
   "id": "e8ce237e",
   "metadata": {},
   "source": [
    "#### Task 3A \n",
    "Fill in the function below to return a single-qubit circuit such that\n",
    "- the probability of seeing $|1\\rangle$ on measurement is `0.25`\n",
    "- your circuit only uses gates from the following list: X, Y, Z, P, H, U\n",
    "\n",
    "Verify your solution over `1024` trials and plot the results in a histogram."
   ]
  },
  {
   "cell_type": "code",
   "execution_count": 506,
   "id": "6a85bc9e",
   "metadata": {
    "tags": []
   },
   "outputs": [],
   "source": [
    "def qc_rot_a():\n",
    "    qc =QuantumCircuit(1,1)\n",
    "    state1 = [0,1]\n",
    "    qc.initialize(state1,0)\n",
    "    #qc.h(0)\n",
    "    qc.u(np.pi*1/3,0,np.pi,0)\n",
    "    qc.x(0)\n",
    "    qc.measure([0],[0])\n",
    "    backend = BasicAer.get_backend('qasm_simulator')\n",
    "    job = execute(qc, backend, shots = 1024)\n",
    "    plot_histogram(job.result().get_counts())\n",
    "    return qc"
   ]
  },
  {
   "cell_type": "code",
   "execution_count": 507,
   "id": "4979f6ef",
   "metadata": {
    "tags": []
   },
   "outputs": [
    {
     "data": {
      "image/png": "[encoded data removed]",
      "text/plain": [
       "<Figure size 314.126x144.48 with 1 Axes>"
      ]
     },
     "execution_count": 507,
     "metadata": {},
     "output_type": "execute_result"
    }
   ],
   "source": [
    "qc_rot_a().draw(output='mpl')\n"
   ]
  },
  {
   "cell_type": "code",
   "execution_count": 509,
   "id": "f40e635e",
   "metadata": {
    "tags": []
   },
   "outputs": [
    {
     "data": {
      "image/png": "[encoded data removed]",
      "text/plain": [
       "<Figure size 504x360 with 1 Axes>"
      ]
     },
     "execution_count": 509,
     "metadata": {},
     "output_type": "execute_result"
    }
   ],
   "source": [
    "    qc = QuantumCircuit(1,1)\n",
    "    state1 = [0,1]\n",
    "    qc.initialize(state1,0)\n",
    "    #qc.h(0)\n",
    "    qc.u(np.pi*1/3,0,np.pi,0)\n",
    "    qc.x(0)\n",
    "    qc.measure([0],[0])\n",
    "    backend = BasicAer.get_backend('qasm_simulator')\n",
    "    job = execute(qc, backend, shots = 1024)\n",
    "    plot_histogram(job.result().get_counts())"
   ]
  },
  {
   "cell_type": "markdown",
   "id": "623c6942",
   "metadata": {},
   "source": [
    "<!-- END QUESTION -->\n",
    "\n",
    "<!-- BEGIN QUESTION -->\n",
    "\n",
    "#### Task 3B - Rotation Operator Gates\n",
    "This time, fill in the function below to return a single-qubit circuit such that\n",
    "- the probability of seeing $|0\\rangle$ on measurement is `0.75`\n",
    "- your circuit only uses gates from the following list: [RX, RY, RZ](https://en.wikipedia.org/wiki/Quantum_logic_gate#Rotation_operator_gates)\n",
    "\n",
    "Again, verify your solution over `1024` trials and plot the results in a histogram."
   ]
  },
  {
   "cell_type": "code",
   "execution_count": 668,
   "id": "02401b4e",
   "metadata": {
    "tags": []
   },
   "outputs": [],
   "source": [
    "def qc_rot_b():\n",
    "    qc =QuantumCircuit(1,1)\n",
    "    state0 = [1,0]\n",
    "    qc.initialize(state0,0)\n",
    "    qc.rx(np.pi*1/3,0)\n",
    "    qc.measure([0],[0])\n",
    "    backend = BasicAer.get_backend('qasm_simulator')\n",
    "    job = execute(qc, backend, shots = 1024)\n",
    "    plot_histogram(job.result().get_counts())\n",
    "    return qc"
   ]
  },
  {
   "cell_type": "code",
   "execution_count": 669,
   "id": "cbc50c12",
   "metadata": {
    "tags": []
   },
   "outputs": [
    {
     "data": {
      "image/png": "[encoded data removed]",
      "text/plain": [
       "<Figure size 253.926x144.48 with 1 Axes>"
      ]
     },
     "execution_count": 669,
     "metadata": {},
     "output_type": "execute_result"
    }
   ],
   "source": [
    "qc_rot_b().draw(output='mpl')"
   ]
  },
  {
   "cell_type": "code",
   "execution_count": 674,
   "id": "8d8e6334",
   "metadata": {
    "tags": []
   },
   "outputs": [
    {
     "data": {
      "image/png": "[encoded data removed]",
      "text/plain": [
       "<Figure size 504x360 with 1 Axes>"
      ]
     },
     "execution_count": 674,
     "metadata": {},
     "output_type": "execute_result"
    }
   ],
   "source": [
    "    qc =QuantumCircuit(1,1)\n",
    "    state0 = [1,0]\n",
    "    qc.initialize(state0,0)\n",
    "    qc.rx(np.pi*1/3,0)  \n",
    "    qc.measure([0],[0])\n",
    "    backend = BasicAer.get_backend('qasm_simulator')\n",
    "    job = execute(qc, backend, shots = 1024)\n",
    "    plot_histogram(job.result().get_counts())"
   ]
  },
  {
   "cell_type": "markdown",
   "id": "76a10fa3",
   "metadata": {},
   "source": [
    "<!-- END QUESTION -->\n",
    "\n",
    "<!-- BEGIN QUESTION -->\n",
    "\n",
    "#### Task 3C\n",
    "Suppose we apply a Z gate to your circuit from task 3B just before measuring. How will the probability of seeing $|0\\rangle$ change from that of the original circuit? Does the modified circuit produce a state equivalent to the original circuit up to a global phase?"
   ]
  },
  {
   "cell_type": "markdown",
   "id": "a750ec6a",
   "metadata": {},
   "source": [
    "The probability of seeing |0> will not change from that of the original circuit. Yes, the modified circuit does produce an equivalent state to the original circuit, |0> and |1> are both not affected (up to global phase change) by a Z gate."
   ]
  },
  {
   "cell_type": "markdown",
   "id": "438dc60f",
   "metadata": {},
   "source": [
    "<!-- END QUESTION -->\n",
    "\n",
    "#### Task 4 - P vs. RZ (10 pts)\n",
    "In task 2C, the P gate was introduced, and in lecture and task 3B, you've seen the RZ gate. Both are related to Z-axis rotations, but what utility is there to having each? Is there a mathematical relationship between them? If so, describe it. \n",
    "\n",
    "Feel free to use any resources for your research, including `lecture 6: A single qubit`."
   ]
  },
  {
   "cell_type": "markdown",
   "id": "0adafb05",
   "metadata": {},
   "source": [
    "Up to a global phase of e^(i(pi/2)) these gates are equivalent. The P gate is essentially a more flexible version of the RZ gate, so it's easier to modify it to mirror other gates (similar to the U-gate)."
   ]
  },
  {
   "cell_type": "markdown",
   "id": "6c2da731",
   "metadata": {},
   "source": [
    "<!-- END QUESTION -->\n",
    "\n",
    "<!-- BEGIN QUESTION -->\n",
    "\n",
    "#### Task 5 (5A, 5B) - Transpiling Circuits (20 pts)\n",
    "When you submit a job to IBM, the quantum computer will most likely run a different circuit than you built. This is because the hardware is capable of performing a very limited set of operations relative to the number of unitary gates. For IBM devices, the transpile step reduces all single-qubit operations to I, X, [SX](https://qiskit.org/documentation/stubs/qiskit.circuit.library.SXGate.html), and RZ ([source](https://qiskit.org/textbook/ch-states/single-qubit-gates.html#7.-The-U-gate--)).\n",
    "\n",
    "#### Task 5A\n",
    "- Choose an IBM quantum computer.\n",
    "- Use the [transpile](https://qiskit.org/documentation/stubs/qiskit.compiler.transpile.html) method to optimize the given circuit for the backend.\n",
    "- Draw the transpiled circuit."
   ]
  },
  {
   "cell_type": "code",
   "execution_count": 696,
   "id": "bf21c4d9",
   "metadata": {
    "scrolled": true
   },
   "outputs": [
    {
     "data": {
      "image/png": "[encoded data removed]",
      "text/plain": [
       "<Figure size 735.526x144.48 with 1 Axes>"
      ]
     },
     "execution_count": 696,
     "metadata": {},
     "output_type": "execute_result"
    }
   ],
   "source": [
    "qc_rand = random_circuit(1, 10, measure=True, seed=6)\n",
    "qc_rand.draw(output='mpl')\n",
    "#provider = IBMQ.get_provider(hub='ibm-q')\n",
    "#for backend in provider.backends():\n",
    "#    status = backend.status().to_dict()\n",
    "#    if status['operational'] and status['status_msg'] == 'active':\n",
    "#        if 'simulator' not in status['backend_name']:\n",
    "#            print(pprint.pformat(status))\n",
    "#ibmqc = provider.get_backend('ibmq_armonk')\n",
    "#q = transpile(qc_rand,ibmqc)\n",
    "#q.draw(output='mpl')\n",
    "#print(\"Check job status here:\", \"https://quantum-computing.ibm.com/jobs/\" + job.job_id())"
   ]
  },
  {
   "cell_type": "code",
   "execution_count": 1,
   "id": "81991fef",
   "metadata": {
    "tags": []
   },
   "outputs": [
    {
     "ename": "NameError",
     "evalue": "name 'random_circuit' is not defined",
     "output_type": "error",
     "traceback": [
      "\u001b[0;31m---------------------------------------------------------------------------\u001b[0m",
      "\u001b[0;31mNameError\u001b[0m                                 Traceback (most recent call last)",
      "\u001b[0;32m<ipython-input-1-d02e6ef5bf26>\u001b[0m in \u001b[0;36m<module>\u001b[0;34m\u001b[0m\n\u001b[1;32m      1\u001b[0m \u001b[0;31m#IBMQ.load_account()\u001b[0m\u001b[0;34m\u001b[0m\u001b[0;34m\u001b[0m\u001b[0m\n\u001b[0;32m----> 2\u001b[0;31m \u001b[0mqc_rand\u001b[0m \u001b[0;34m=\u001b[0m \u001b[0mrandom_circuit\u001b[0m\u001b[0;34m(\u001b[0m\u001b[0;36m1\u001b[0m\u001b[0;34m,\u001b[0m \u001b[0;36m10\u001b[0m\u001b[0;34m,\u001b[0m \u001b[0mmeasure\u001b[0m\u001b[0;34m=\u001b[0m\u001b[0;32mTrue\u001b[0m\u001b[0;34m,\u001b[0m \u001b[0mseed\u001b[0m\u001b[0;34m=\u001b[0m\u001b[0;36m6\u001b[0m\u001b[0;34m)\u001b[0m\u001b[0;34m\u001b[0m\u001b[0m\n\u001b[0m\u001b[1;32m      3\u001b[0m \u001b[0mqc_rand\u001b[0m\u001b[0;34m.\u001b[0m\u001b[0mdraw\u001b[0m\u001b[0;34m(\u001b[0m\u001b[0moutput\u001b[0m\u001b[0;34m=\u001b[0m\u001b[0;34m'mpl'\u001b[0m\u001b[0;34m)\u001b[0m\u001b[0;34m\u001b[0m\u001b[0m\n\u001b[1;32m      4\u001b[0m \u001b[0mprovider\u001b[0m \u001b[0;34m=\u001b[0m \u001b[0mIBMQ\u001b[0m\u001b[0;34m.\u001b[0m\u001b[0mget_provider\u001b[0m\u001b[0;34m(\u001b[0m\u001b[0mhub\u001b[0m\u001b[0;34m=\u001b[0m\u001b[0;34m'ibm-q'\u001b[0m\u001b[0;34m)\u001b[0m\u001b[0;34m\u001b[0m\u001b[0m\n\u001b[1;32m      5\u001b[0m \u001b[0;32mfor\u001b[0m \u001b[0mbackend\u001b[0m \u001b[0;32min\u001b[0m \u001b[0mprovider\u001b[0m\u001b[0;34m.\u001b[0m\u001b[0mbackends\u001b[0m\u001b[0;34m(\u001b[0m\u001b[0;34m)\u001b[0m\u001b[0;34m:\u001b[0m\u001b[0;34m\u001b[0m\u001b[0m\n",
      "\u001b[0;31mNameError\u001b[0m: name 'random_circuit' is not defined"
     ]
    }
   ],
   "source": [
    "#IBMQ.load_account()\n",
    "qc_rand = random_circuit(1, 10, measure=True, seed=6)\n",
    "qc_rand.draw(output='mpl')\n",
    "provider = IBMQ.get_provider(hub='ibm-q')\n",
    "for backend in provider.backends():\n",
    "    status = backend.status().to_dict()\n",
    "    if status['operational'] and status['status_msg'] == 'active':\n",
    "        if 'simulator' not in status['backend_name']:\n",
    "            print(pprint.pformat(status))\n",
    "ibmqc = provider.get_backend('ibmq_armonk')\n",
    "q = transpile(qc_rand,ibmqc)\n",
    "q.draw(output='mpl')\n",
    "print(\"Check job status here:\", \"https://quantum-computing.ibm.com/jobs/\" + job.job_id())"
   ]
  },
  {
   "cell_type": "raw",
   "id": "f8d14f89",
   "metadata": {},
   "source": [
    "<!-- END QUESTION -->\n",
    "\n",
    "<!-- BEGIN QUESTION -->\n",
    "\n",
    "#### Task 5B\n",
    "Which gates and how many of each are used in the transpiled circuit?"
   ]
  },
  {
   "cell_type": "markdown",
   "id": "a6539dd0",
   "metadata": {},
   "source": [
    "There is one root(x) gate and one Rz gate used in the transpiled circuit"
   ]
  },
  {
   "cell_type": "markdown",
   "id": "26f6bf85",
   "metadata": {},
   "source": [
    "<!-- END QUESTION -->\n",
    "\n",
    "## Conclusion\n",
    "\n",
    "Next up: the EV bomb!"
   ]
  },
  {
   "cell_type": "markdown",
   "id": "748cfa16",
   "metadata": {
    "deletable": false,
    "editable": false
   },
   "source": [
    "---\n",
    "\n",
    "To double-check your work, the cell below will rerun all of the autograder tests."
   ]
  },
  {
   "cell_type": "code",
   "execution_count": 697,
   "id": "277a71db",
   "metadata": {
    "deletable": false,
    "editable": false
   },
   "outputs": [
    {
     "data": {
      "text/plain": [
       "Task 1 results: All test cases passed!\n",
       "\n",
       "Task 2A results: All test cases passed!\n",
       "\n",
       "Task 2B results: All test cases passed!\n",
       "\n",
       "Task 2C results: All test cases passed!"
      ]
     },
     "execution_count": 697,
     "metadata": {},
     "output_type": "execute_result"
    }
   ],
   "source": [
    "grader.check_all()"
   ]
  },
  {
   "cell_type": "markdown",
   "id": "eb251396",
   "metadata": {
    "deletable": false,
    "editable": false
   },
   "source": [
    "## Submission\n",
    "\n",
    "Make sure you have run all cells in your notebook in order before running the cell below, so that all images/graphs appear in the output. The cell below will generate a zip file for you to submit. **Please save before exporting!**"
   ]
  },
  {
   "cell_type": "code",
   "execution_count": null,
   "id": "4e853d6b",
   "metadata": {
    "deletable": false,
    "editable": false
   },
   "outputs": [],
   "source": [
    "# Save your notebook first, then run this cell to export your submission.\n",
    "grader.export(pdf=False)"
   ]
  },
  {
   "cell_type": "markdown",
   "id": "f8f10acb",
   "metadata": {},
   "source": [
    " "
   ]
  }
 ],
 "metadata": {
  "kernelspec": {
   "display_name": "Python 3",
   "language": "python",
   "name": "python3"
  },
  "language_info": {
   "codemirror_mode": {
    "name": "ipython",
    "version": 3
   },
   "file_extension": ".py",
   "mimetype": "text/x-python",
   "name": "python",
   "nbconvert_exporter": "python",
   "pygments_lexer": "ipython3",
   "version": "3.7.0"
  },
  "otter": {
   "tests": {
    "Task 1": {
     "name": "Task 1",
     "points": 10,
     "suites": [
      {
       "cases": [
        {
         "code": ">>> qc_pauli_z().num_clbits == 1 and qc_pauli_z().num_qubits == 1\nTrue",
         "failure_message": "Incorrect number of qubits or classical bits.",
         "hidden": false,
         "locked": false,
         "points": 1
        },
        {
         "code": ">>> def testNoQiskitZGate():\n...     ops = qc_pauli_z().count_ops()\n...     return 'z' not in ops\n...     \n>>> def testInitialState():\n...     try:\n...         num_initializations = qc_pauli_z().count_ops()['initialize']\n...     except KeyError:\n...         return False\n...     else:\n...         return num_initializations == 1\n...     \n>>> def testMeasurementPerformed():\n...     try:\n...         num_measurements = qc_pauli_z().count_ops()['measure']\n...     except KeyError:\n...         return False\n...     else:\n...         return num_measurements == 1\n...     \n>>> testMeasurementPerformed() and testNoQiskitZGate() and testInitialState()\nTrue",
         "failure_message": "Circuit requirements not satisfied, see bullet list.",
         "hidden": false,
         "locked": false,
         "points": 1
        },
        {
         "code": ">>> def testNoQiskitZGate():\n...     ops = qc_pauli_z().count_ops()\n...     return 'z' not in ops\n...     \n>>> def testInitialState():\n...     try:\n...         num_initializations = qc_pauli_z().count_ops()['initialize']\n...     except KeyError:\n...         return False\n...     else:\n...         return num_initializations == 1\n...     \n>>> def testMeasurementPerformed():\n...     try:\n...         num_measurements = qc_pauli_z().count_ops()['measure']\n...     except KeyError:\n...         return False\n...     else:\n...         return num_measurements == 1\n...     \n>>> def testRandomInitialState():\n...     results = []\n...     for i in range(3):\n...         c = random.uniform(0, 2*np.pi)\n...         initial_state = [(np.cos(c)), (np.sin(c))]\n...         pauli_z_matrix = np.array(\n...                                     [[1, 0],\n...                                      [0,-1]]\n...                                  )\n...         qc = qc_pauli_z(initial_state)\n...         qc.remove_final_measurements()\n...         result_sv = Statevector.from_instruction(qc)\n...         results.append(result_sv.equiv(Statevector(pauli_z_matrix.dot(initial_state))))\n...     return all(results)\n>>> \n>>> testRandomInitialState() and testMeasurementPerformed() and testNoQiskitZGate() and testInitialState()\nTrue",
         "failure_message": "Incorrect state returned.",
         "hidden": false,
         "locked": false,
         "points": 8
        }
       ],
       "scored": true,
       "setup": "",
       "teardown": "",
       "type": "doctest"
      }
     ]
    },
    "Task 2A": {
     "name": "Task 2A",
     "points": 10,
     "suites": [
      {
       "cases": [
        {
         "code": ">>> def testAcceptableGateUsage2A():\n...     ops = reverse_a().count_ops()\n...     x = ops['x'] == 2\n...     y = ops['y'] == 1\n...     z = ops['z'] == 1\n...     h = ops['h'] == 1\n...     try:\n...         u = ops['u'] == 1\n...     except KeyError:\n...         u = False\n...     return all([x,y,z,h,u])\n...     \n>>> testAcceptableGateUsage2A()\nTrue",
         "failure_message": "Circuit requirements not satisfied, check bullet list.",
         "hidden": false,
         "locked": false,
         "points": 1
        },
        {
         "code": ">>> def testKetZero2A():\n...     qc = reverse_a()\n...     qc.remove_final_measurements()\n...     sv = Statevector.from_instruction(qc)\n...     return sv.equiv(Statevector([1,0]))\n>>> \n>>> def testKetOne2A():\n...     initial_state = [0,1]\n...     qc = reverse_a(initial_state)\n...     qc.remove_final_measurements()\n...     sv = Statevector.from_instruction(qc)\n...     return sv.equiv(Statevector([0,1]))\n>>> \n>>> def testAcceptableGateUsage2A():\n...     ops = reverse_a().count_ops()\n...     x = ops['x'] == 2\n...     y = ops['y'] == 1\n...     z = ops['z'] == 1\n...     h = ops['h'] == 1\n...     try:\n...         u = ops['u'] == 1\n...     except KeyError:\n...         u = False\n...         \n...     return all([x,y,z,h,u])\n...     \n>>> testKetZero2A() and testKetOne2A() and testAcceptableGateUsage2A()\nTrue",
         "failure_message": "Basis states not passing.",
         "hidden": false,
         "locked": false,
         "points": 4
        },
        {
         "code": ">>> def testRandomSimple2A():\n...     c = random.uniform(0, 2*np.pi)\n...     initial_state = [(np.cos(c)), (np.sin(c))]\n...     qc = reverse_a(initial_state)\n...     qc.remove_final_measurements()\n...     sv = Statevector.from_instruction(qc)\n...     return sv.equiv(Statevector(initial_state))\n>>> \n>>> def testAcceptableGateUsage2A():\n...     ops = reverse_a().count_ops()\n...     x = ops['x'] == 2\n...     y = ops['y'] == 1\n...     z = ops['z'] == 1\n...     h = ops['h'] == 1\n...     try:\n...         u = ops['u'] == 1\n...     except KeyError:\n...         u = False\n...         \n...     return all([x,y,z,h,u])\n...     \n>>> testRandomSimple2A() and testAcceptableGateUsage2A()\nTrue",
         "failure_message": "Random state not passing.",
         "hidden": false,
         "locked": false,
         "points": 5
        }
       ],
       "scored": true,
       "setup": "",
       "teardown": "",
       "type": "doctest"
      }
     ]
    },
    "Task 2B": {
     "name": "Task 2B",
     "points": 10,
     "suites": [
      {
       "cases": [
        {
         "code": ">>> def testAcceptableGateUsage2B():\n...     ops = reverse_b().count_ops()\n...     x = ops['x'] == 5\n...     y = ops['y'] == 5\n...     z = ops['z'] == 5\n...     h = ops['h'] == 5\n...     try:\n...         u = ops['u'] == 1\n...     except KeyError:\n...         u = False\n...     return all([x,y,z,h,u])\n...     \n>>> testAcceptableGateUsage2B()\nTrue",
         "failure_message": "Circuit requirements not satisfied, check bullet list.",
         "hidden": false,
         "locked": false,
         "points": 1
        },
        {
         "code": ">>> def testKetZero2B():\n...     qc = reverse_b()\n...     qc.remove_final_measurements()\n...     sv = Statevector.from_instruction(qc)\n...     return sv.equiv(Statevector([1,0]))\n>>> \n>>> def testKetOne2B():\n...     initial_state = [0,1]\n...     qc = reverse_b(initial_state)\n...     qc.remove_final_measurements()\n...     sv = Statevector.from_instruction(qc)\n...     return sv.equiv(Statevector([0,1]))\n>>> \n>>> def testAcceptableGateUsage2B():\n...     ops = reverse_b().count_ops()\n...     x = ops['x'] == 5\n...     y = ops['y'] == 5\n...     z = ops['z'] == 5\n...     h = ops['h'] == 5\n...     try:\n...         u = ops['u'] == 1\n...     except KeyError:\n...         u = False\n...     return all([x,y,z,h,u])\n...     \n>>> testKetZero2B() and testKetOne2B() and testAcceptableGateUsage2B()\nTrue",
         "failure_message": "Basis states not passing.",
         "hidden": false,
         "locked": false,
         "points": 4
        },
        {
         "code": ">>> def testRandomSimple2B():\n...     c = random.uniform(0, 2*np.pi)\n...     initial_state = [(np.cos(c)), (np.sin(c))]\n...     qc = reverse_b(initial_state)\n...     qc.remove_final_measurements()\n...     sv = Statevector.from_instruction(qc)\n...     return sv.equiv(Statevector(initial_state))\n>>> \n>>> def testAcceptableGateUsage2B():\n...     ops = reverse_b().count_ops()\n...     x = ops['x'] == 5\n...     y = ops['y'] == 5\n...     z = ops['z'] == 5\n...     h = ops['h'] == 5\n...     try:\n...         u = ops['u'] == 1\n...     except KeyError:\n...         u = False\n...     return all([x,y,z,h,u])\n>>> \n>>> testRandomSimple2B() and testAcceptableGateUsage2B()\nTrue",
         "failure_message": "Random state not passing.",
         "hidden": false,
         "locked": false,
         "points": 5
        }
       ],
       "scored": true,
       "setup": "",
       "teardown": "",
       "type": "doctest"
      }
     ]
    },
    "Task 2C": {
     "name": "Task 2C",
     "points": 10,
     "suites": [
      {
       "cases": [
        {
         "code": ">>> def testAcceptableGateUsage2C():\n...     ops = reverse_c().count_ops()\n...     x = ops['x'] == 1\n...     y = not 'y' in ops\n...     z = ops['z'] == 1\n...     h = not 'h' in ops\n...     p = ops['p'] == 5\n...     try:\n...         u = ops['u'] == 1\n...     except KeyError:\n...         u = False\n...     return all([x,y,z,h,p,u])\n...     \n>>> testAcceptableGateUsage2C()\nTrue",
         "failure_message": "Circuit requirements not satisfied, check bullet list.",
         "hidden": false,
         "locked": false,
         "points": 1
        },
        {
         "code": ">>> def testKetZero2C():\n...     qc = reverse_c()\n...     qc.remove_final_measurements()\n...     sv = Statevector.from_instruction(qc)\n...     return sv.equiv(Statevector([1,0]))\n>>> \n>>> def testKetOne2C():\n...     initial_state = [0,1]\n...     qc = reverse_c(initial_state)\n...     qc.remove_final_measurements()\n...     sv = Statevector.from_instruction(qc)\n...     return sv.equiv(Statevector([0,1]))\n>>> \n>>> def testAcceptableGateUsage2C():\n...     ops = reverse_c().count_ops()\n...     x = ops['x'] == 1\n...     y = not 'y' in ops\n...     z = ops['z'] == 1\n...     h = not 'h' in ops\n...     p = ops['p'] == 5\n...     try:\n...         u = ops['u'] == 1\n...     except KeyError:\n...         u = False\n...     return all([x,y,z,h,p,u])\n...     \n>>> testKetZero2C() and testKetOne2C() and testAcceptableGateUsage2C()\nTrue",
         "failure_message": "Basis states not passing.",
         "hidden": false,
         "locked": false,
         "points": 4
        },
        {
         "code": ">>> def testRandomSimple2C():\n...     c = random.uniform(0, 2*np.pi)\n...     initial_state = [(np.cos(c)), (np.sin(c))]\n...     qc = reverse_c(initial_state)\n...     qc.remove_final_measurements()\n...     sv = Statevector.from_instruction(qc)\n...     return sv.equiv(Statevector(initial_state))\n>>> \n>>> def testAcceptableGateUsage2C():\n...     ops = reverse_c().count_ops()\n...     x = ops['x'] == 1\n...     y = not 'y' in ops\n...     z = ops['z'] == 1\n...     h = not 'h' in ops\n...     p = ops['p'] == 5\n...     try:\n...         u = ops['u'] == 1\n...     except KeyError:\n...         u = False\n...     return all([x,y,z,h,p,u])\n...     \n>>> testRandomSimple2C() and testAcceptableGateUsage2C()\nTrue",
         "failure_message": "Random state not passing.",
         "hidden": false,
         "locked": false,
         "points": 5
        }
       ],
       "scored": true,
       "setup": "",
       "teardown": "",
       "type": "doctest"
      }
     ]
    }
   }
  }
 },
 "nbformat": 4,
 "nbformat_minor": 5
}
