{
 "cells": [
  {
   "cell_type": "code",
   "execution_count": 3,
   "id": "66dec1c0",
   "metadata": {
    "deletable": false,
    "editable": false
   },
   "outputs": [],
   "source": [
    "# Initialize Otter\n",
    "import otter\n",
    "grader = otter.Notebook(\"q0.ipynb\")"
   ]
  },
  {
   "cell_type": "markdown",
   "id": "fe7bd2b0",
   "metadata": {},
   "source": [
    "# Qiskit Assignment 0\n",
    "## Introduction to Qiskit\n",
    "Welcome to your first Qiskit assignment! Qiskit is IBM's open-source SDK for working with quantum computers. We will be using Qiskit for programming assignments this semester. This assignment will help you begin to familarize yourself with the assignment workflow.\n",
    "\n",
    "### Learning Objectives\n",
    "1. Get familiar with Qiskit\n",
    "2. Understand the difference between classical and quantum bits\n",
    "3. Build simple quantum circuits\n",
    "4. Run your circuit on a quantum computer\n",
    "\n",
    "### Resources\n",
    "Qiskit assignments are designed to be collaborative and open internet. Where possible, links to useful documentation will be embedded within questions. You're free to discuss these tasks with TAs and peers, but do write your own solutions. For some questions, there may be additional restrictions on the ways you can solve them. To ensure compliance with course policies and assignment instructions, we reserve the right to inspect your code."
   ]
  },
  {
   "cell_type": "markdown",
   "id": "74a7b3f7",
   "metadata": {},
   "source": [
    "**NAME**: Sam Schwartz\n",
    "\n",
    "**STUDENT ID**: 488082"
   ]
  },
  {
   "cell_type": "code",
   "execution_count": 3,
   "id": "693ec944",
   "metadata": {},
   "outputs": [],
   "source": [
    "# Import Qiskit and other needed packages\n",
    "from qiskit import *\n",
    "from qiskit.visualization import plot_histogram\n",
    "from qiskit.quantum_info import Statevector\n",
    "from qiskit_textbook.tools import array_to_latex\n",
    "from qiskit.providers.ibmq import least_busy\n",
    "import numpy as np\n",
    "import pprint"
   ]
  },
  {
   "cell_type": "markdown",
   "id": "e1b0ac4b",
   "metadata": {},
   "source": [
    "#### Task 1 - Building a Circuit (20 pts)\n",
    "Using Qiskit's [QuantumCircuit class](https://qiskit.org/documentation/stubs/qiskit.circuit.QuantumCircuit.html?highlight=quantumcircuit), fill in the `simpleCircuit()` function as follows:\n",
    "\n",
    "- Create a quantum circuit with 1 qubit and 1 classical bit\n",
    "- Measure the qubit\n",
    "- Return the circuit"
   ]
  },
  {
   "cell_type": "code",
   "execution_count": 29,
   "id": "6c59f18c",
   "metadata": {
    "tags": []
   },
   "outputs": [],
   "source": [
    "def simpleCircuit():\n",
    "    qc = QuantumCircuit(1,1)\n",
    "    qc.measure([0],[0])\n",
    "    return qc\n",
    "    "
   ]
  },
  {
   "cell_type": "code",
   "execution_count": 30,
   "id": "26ef3d97",
   "metadata": {
    "deletable": false,
    "editable": false
   },
   "outputs": [
    {
     "data": {
      "text/html": [
       "<p><strong><pre style='display: inline;'>Task 1</pre></strong> passed!</p>"
      ],
      "text/plain": [
       "Task 1 results: All test cases passed!"
      ]
     },
     "execution_count": 30,
     "metadata": {},
     "output_type": "execute_result"
    }
   ],
   "source": [
    "grader.check(\"Task 1\")"
   ]
  },
  {
   "cell_type": "markdown",
   "id": "5eff6729",
   "metadata": {},
   "source": [
    "<!-- BEGIN QUESTION -->\n",
    "\n",
    "#### Task 2 - Drawing Circuits (20 pts)\n",
    "We can visualize circuits using the QuantumCircuit's [draw method](https://qiskit.org/documentation/stubs/qiskit.circuit.QuantumCircuit.draw.html#qiskit.circuit.QuantumCircuit.draw).\n",
    "\n",
    "Draw your circuit from Task 1 using the matplotlib format."
   ]
  },
  {
   "cell_type": "code",
   "execution_count": 38,
   "id": "332a3999",
   "metadata": {
    "tags": []
   },
   "outputs": [
    {
     "data": {
      "image/png": "[encoded data removed]",
      "text/plain": [
       "<Figure size 133.526x144.48 with 1 Axes>"
      ]
     },
     "execution_count": 38,
     "metadata": {},
     "output_type": "execute_result"
    }
   ],
   "source": [
    "# Draw your circuit in this cell\n",
    "qc = simpleCircuit()\n",
    "qc.draw(output = \"mpl\")"
   ]
  },
  {
   "cell_type": "markdown",
   "id": "71ae48fc",
   "metadata": {},
   "source": [
    "<!-- END QUESTION -->\n",
    "\n",
    "#### Task 3 - Simulating Circuits and Getting Results (10 pts)\n",
    "Circuits aren't very helpful unless we can run them and observe the outputs.\n",
    "We will frequently use the [qasm simulator](https://qiskit.org/documentation/stubs/qiskit.providers.aer.QasmSimulator.html) to simulate our circuit on a quantum machine.\n",
    "\n",
    "Create a job that runs a simpleCircuit 468 times. You may find these [docs](https://qiskit.org/documentation/apidoc/execute.html) useful. Do the results match what we'd expect from this circuit?"
   ]
  },
  {
   "cell_type": "code",
   "execution_count": 44,
   "id": "49de2411",
   "metadata": {
    "tags": []
   },
   "outputs": [
    {
     "data": {
      "image/png": "[encoded data removed]",
      "text/plain": [
       "<Figure size 504x360 with 1 Axes>"
      ]
     },
     "execution_count": 44,
     "metadata": {},
     "output_type": "execute_result"
    }
   ],
   "source": [
    "qc = simpleCircuit()\n",
    "qasm_sim = BasicAer.get_backend(\"qasm_simulator\")\n",
    "\n",
    "job = execute(qc, qasm_sim, shots = 468)\n",
    "\n",
    "counts = job.result().get_counts()\n",
    "\n",
    "# This loop displays a state with zero probability \n",
    "# on the histogram for the purpose of \n",
    "# comparison with the next section.\n",
    "for state in ['0','1']:\n",
    "    if state not in counts:\n",
    "        counts[state] = 0\n",
    "        \n",
    "plot_histogram(counts)"
   ]
  },
  {
   "cell_type": "code",
   "execution_count": 45,
   "id": "3d0b7631",
   "metadata": {
    "deletable": false,
    "editable": false
   },
   "outputs": [
    {
     "data": {
      "text/html": [
       "<p><strong><pre style='display: inline;'>Task 3</pre></strong> passed!</p>"
      ],
      "text/plain": [
       "Task 3 results: All test cases passed!"
      ]
     },
     "execution_count": 45,
     "metadata": {},
     "output_type": "execute_result"
    }
   ],
   "source": [
    "grader.check(\"Task 3\")"
   ]
  },
  {
   "cell_type": "markdown",
   "id": "9acf76e8",
   "metadata": {},
   "source": [
    "<!-- BEGIN QUESTION -->\n",
    "\n",
    "#### Task 4 - Running Your Circuit on a Quantum Computer (20 pts)\n",
    "Now let's compare our results from the simulator with the results from a real quantum device.\n",
    "\n",
    "Create an account with [IBM Quantum](https://quantum-computing.ibm.com/login) and paste your API token into the code block below. After running the `save_account` method, you may choose to remove your token to keep it private. Credentials will be saved to your computer, and calling `load_account` is sufficient to retrieve them for future assignments."
   ]
  },
  {
   "cell_type": "code",
   "execution_count": 47,
   "id": "1c3d262a",
   "metadata": {},
   "outputs": [],
   "source": [
    " IBMQ.save_account('b1111beee8cc21bc9cb683ce7a875e8d4242cea9026ea281ff87ab9bde4b11eb0513d14c26052afe398bba70aeef9522b0c0eaca94a3682adc3fc5f4b77a7289')"
   ]
  },
  {
   "cell_type": "code",
   "execution_count": 4,
   "id": "6516b57d",
   "metadata": {},
   "outputs": [
    {
     "data": {
      "text/plain": [
       "<AccountProvider for IBMQ(hub='ibm-q', group='open', project='main')>"
      ]
     },
     "execution_count": 4,
     "metadata": {},
     "output_type": "execute_result"
    }
   ],
   "source": [
    "IBMQ.load_account()"
   ]
  },
  {
   "cell_type": "markdown",
   "id": "6955a087",
   "metadata": {},
   "source": [
    "The code block below lists some info about the available IBM quantum devices and queues."
   ]
  },
  {
   "cell_type": "code",
   "execution_count": 5,
   "id": "b22a44f2",
   "metadata": {},
   "outputs": [
    {
     "name": "stdout",
     "output_type": "stream",
     "text": [
      "{'backend_name': 'ibmq_armonk',\n",
      " 'backend_version': '2.4.29',\n",
      " 'operational': True,\n",
      " 'pending_jobs': 1,\n",
      " 'status_msg': 'active'}\n",
      "{'backend_name': 'ibmq_bogota',\n",
      " 'backend_version': '1.6.20',\n",
      " 'operational': True,\n",
      " 'pending_jobs': 26,\n",
      " 'status_msg': 'active'}\n",
      "{'backend_name': 'ibmq_lima',\n",
      " 'backend_version': '1.0.30',\n",
      " 'operational': True,\n",
      " 'pending_jobs': 43,\n",
      " 'status_msg': 'active'}\n",
      "{'backend_name': 'ibmq_belem',\n",
      " 'backend_version': '1.0.33',\n",
      " 'operational': True,\n",
      " 'pending_jobs': 12,\n",
      " 'status_msg': 'active'}\n",
      "{'backend_name': 'ibmq_quito',\n",
      " 'backend_version': '1.1.23',\n",
      " 'operational': True,\n",
      " 'pending_jobs': 10,\n",
      " 'status_msg': 'active'}\n",
      "{'backend_name': 'ibmq_manila',\n",
      " 'backend_version': '1.0.25',\n",
      " 'operational': True,\n",
      " 'pending_jobs': 155,\n",
      " 'status_msg': 'active'}\n"
     ]
    }
   ],
   "source": [
    "provider = IBMQ.get_provider(hub='ibm-q')\n",
    "for backend in provider.backends():\n",
    "    status = backend.status().to_dict()\n",
    "    if status['operational'] and status['status_msg'] == 'active':\n",
    "        if 'simulator' not in status['backend_name']:\n",
    "            print(pprint.pformat(status))"
   ]
  },
  {
   "cell_type": "markdown",
   "id": "c0d285b4",
   "metadata": {},
   "source": [
    "To make this easier, we can use the [`least_busy`](https://qiskit.org/textbook/ch-algorithms/superdense-coding.html#4.-Superdense-Coding-on-a-Real-Quantum-Computer-) method to pick the quantum device with the fewest pending jobs."
   ]
  },
  {
   "cell_type": "code",
   "execution_count": 50,
   "id": "931c0642",
   "metadata": {},
   "outputs": [
    {
     "name": "stdout",
     "output_type": "stream",
     "text": [
      "Least busy quantum computer: ibmq_armonk\n"
     ]
    }
   ],
   "source": [
    "lb = least_busy(IBMQ.get_provider(hub='ibm-q').backends(filters=lambda x: not x.configuration().simulator \n",
    "                                       and x.status().operational == True))\n",
    "print(\"Least busy quantum computer:\", lb)"
   ]
  },
  {
   "cell_type": "markdown",
   "id": "666c4de7",
   "metadata": {},
   "source": [
    "Choose one of the backends from above and insert its name into the code block below. Running this code block will execuete your circuit on an IBM quantum device. **Note: It may take a while for your job to complete based on queue times.** Use the generated link to check your job's status."
   ]
  },
  {
   "cell_type": "code",
   "execution_count": 51,
   "id": "ad6d17ad",
   "metadata": {},
   "outputs": [
    {
     "name": "stdout",
     "output_type": "stream",
     "text": [
      "Check job status here: https://quantum-computing.ibm.com/jobs/61f41ae67887b62c8d470dde\n"
     ]
    },
    {
     "data": {
      "image/png": "[encoded data removed]",
      "text/plain": [
       "<Figure size 504x360 with 1 Axes>"
      ]
     },
     "execution_count": 51,
     "metadata": {},
     "output_type": "execute_result"
    }
   ],
   "source": [
    "ibmqc = provider.get_backend('ibmq_armonk')\n",
    "job = execute(simpleCircuit(), ibmqc, shots=468)\n",
    "print(\"Check job status here:\", \"https://quantum-computing.ibm.com/jobs/\" + job.job_id())\n",
    "res = job.result()\n",
    "counts_ibm = res.get_counts()\n",
    "plot_histogram(counts_ibm)"
   ]
  },
  {
   "cell_type": "markdown",
   "id": "4dd46de2",
   "metadata": {},
   "source": [
    "Do you see the same results as the qasm simulator? Why or why not? What is the error rate?"
   ]
  },
  {
   "cell_type": "markdown",
   "id": "04311f6b",
   "metadata": {},
   "source": [
    "No, I do not see the same results as the qasm simulator. Instead of always returning a state of \"0\" it returns a state of \"1\" .092% of the time despite having an (expected) probability of 0 of returning \"1\". The Qasm simulator simulates how an ideal quantum machine acts, whereas the IBM machine is an actual quantum machine and is not perfect. The error rate is thus .092% for this quantum machine with this circuit."
   ]
  },
  {
   "cell_type": "markdown",
   "id": "ad7fa318",
   "metadata": {},
   "source": [
    "<!-- END QUESTION -->\n",
    "\n",
    "#### Task 5 - Another Circuit (15 pts)\n",
    "We now turn to Qiskit's [Pauli X gate](https://qiskit.org/textbook/ch-states/single-qubit-gates.html#xgate) so that we can prepare qubits in the $|1\\rangle$ state.\n",
    "\n",
    "There is also a brief discussion of this gate at the end of `lecture 1: Background`.\n",
    "\n",
    "- Fill in the below function to return a new QuantumCircuit with 2 qubits and 2 classical bits\n",
    "- Prepare the first qubit in state $|0\\rangle$ and the second in state $|1\\rangle$\n",
    "- Perform a measurement of each qubit onto its corresponding classical bit\n",
    "- Draw the circuit using matplotlib"
   ]
  },
  {
   "cell_type": "code",
   "execution_count": 96,
   "id": "ac14f1b2",
   "metadata": {
    "tags": []
   },
   "outputs": [],
   "source": [
    "def opposites():\n",
    "    qc = QuantumCircuit(2,2)\n",
    "    state0 = [1,0]\n",
    "    state1 = [0,1]\n",
    "    qc.initialize(state0, 0)\n",
    "    qc.initialize(state1, 1)\n",
    "    qc.measure(state0,state1)\n",
    "    return qc\n",
    "    "
   ]
  },
  {
   "cell_type": "code",
   "execution_count": 97,
   "id": "190863e8",
   "metadata": {
    "tags": []
   },
   "outputs": [
    {
     "data": {
      "image/png": "[encoded data removed]",
      "text/plain": [
       "<Figure size 267.052x204.68 with 1 Axes>"
      ]
     },
     "execution_count": 97,
     "metadata": {},
     "output_type": "execute_result"
    }
   ],
   "source": [
    "# Draw your circuit in this cell\n",
    "qc = opposites()\n",
    "qc.draw(output = \"mpl\")"
   ]
  },
  {
   "cell_type": "code",
   "execution_count": 98,
   "id": "f210cf39",
   "metadata": {
    "deletable": false,
    "editable": false
   },
   "outputs": [
    {
     "data": {
      "text/html": [
       "<p><strong><pre style='display: inline;'>Task 5</pre></strong> passed!</p>"
      ],
      "text/plain": [
       "Task 5 results: All test cases passed!"
      ]
     },
     "execution_count": 98,
     "metadata": {},
     "output_type": "execute_result"
    }
   ],
   "source": [
    "grader.check(\"Task 5\")"
   ]
  },
  {
   "cell_type": "markdown",
   "id": "9a314322",
   "metadata": {},
   "source": [
    "#### Task 6 - More Counts (15 pts)\n",
    "\n",
    "Think about what output you expect to see from this circuit. \n",
    "- Run your circuit on the qasm simulator 468 times\n",
    "- Store the measurement results in `counts_oppo`\n",
    "\n",
    "Note that the following cell uses Qiskit's [`reverse_bits()`](https://qiskit.org/documentation/stubs/qiskit.circuit.QuantumCircuit.reverse_bits.html#qiskit.circuit.QuantumCircuit.reverse_bits) function. This flips the ordering of qubits a multi-qubit circuit and changes the [endianness](https://en.wikipedia.org/wiki/Endianness) of the resulting statevector, $|01\\rangle$. The reasons for this will become clear in the upcoming lectures and notebook assignments."
   ]
  },
  {
   "cell_type": "code",
   "execution_count": 105,
   "id": "cb307344",
   "metadata": {
    "tags": []
   },
   "outputs": [
    {
     "data": {
      "image/png": "[encoded data removed]",
      "text/plain": [
       "<Figure size 504x360 with 1 Axes>"
      ]
     },
     "execution_count": 105,
     "metadata": {},
     "output_type": "execute_result"
    }
   ],
   "source": [
    "qc = opposites().reverse_bits()\n",
    "\n",
    "job = execute(qc.reverse_bits(), qasm_sim, shots = 468)\n",
    "counts_oppo = job.result().get_counts()\n",
    "\n",
    "for state in ['00','01','10','11']:\n",
    "    if state not in counts_oppo:\n",
    "        counts_oppo[state] = 0\n",
    "plot_histogram(counts_oppo)"
   ]
  },
  {
   "cell_type": "code",
   "execution_count": 106,
   "id": "52c7c5d0",
   "metadata": {
    "deletable": false,
    "editable": false
   },
   "outputs": [
    {
     "data": {
      "text/html": [
       "<p><strong><pre style='display: inline;'>Task 6</pre></strong> passed!</p>"
      ],
      "text/plain": [
       "Task 6 results: All test cases passed!"
      ]
     },
     "execution_count": 106,
     "metadata": {},
     "output_type": "execute_result"
    }
   ],
   "source": [
    "grader.check(\"Task 6\")"
   ]
  },
  {
   "cell_type": "markdown",
   "id": "0e3959ed",
   "metadata": {},
   "source": [
    "## Conclusion\n",
    "This is the general workflow of building and running quantum circuits. We will introduce more qubits and gates as needed to solve problems.\n",
    "\n",
    "Next time: the unitary gate and single qubit circuits!"
   ]
  },
  {
   "cell_type": "markdown",
   "id": "0f6c900c",
   "metadata": {
    "deletable": false,
    "editable": false
   },
   "source": [
    "---\n",
    "\n",
    "To double-check your work, the cell below will rerun all of the autograder tests."
   ]
  },
  {
   "cell_type": "code",
   "execution_count": 107,
   "id": "b6f7b423",
   "metadata": {
    "deletable": false,
    "editable": false
   },
   "outputs": [
    {
     "data": {
      "text/plain": [
       "Task 1 results: All test cases passed!\n",
       "\n",
       "Task 3 results: All test cases passed!\n",
       "\n",
       "Task 5 results: All test cases passed!\n",
       "\n",
       "Task 6 results: All test cases passed!"
      ]
     },
     "execution_count": 107,
     "metadata": {},
     "output_type": "execute_result"
    }
   ],
   "source": [
    "grader.check_all()"
   ]
  },
  {
   "cell_type": "markdown",
   "id": "4cec4035",
   "metadata": {
    "deletable": false,
    "editable": false
   },
   "source": [
    "## Submission\n",
    "\n",
    "Make sure you have run all cells in your notebook in order before running the cell below, so that all images/graphs appear in the output. The cell below will generate a zip file for you to submit. **Please save before exporting!**"
   ]
  },
  {
   "cell_type": "code",
   "execution_count": null,
   "id": "639ae546",
   "metadata": {
    "deletable": false,
    "editable": false
   },
   "outputs": [],
   "source": [
    "# Save your notebook first, then run this cell to export your submission.\n",
    "grader.export(pdf=False)"
   ]
  },
  {
   "cell_type": "markdown",
   "id": "6da86bd5",
   "metadata": {},
   "source": [
    " "
   ]
  }
 ],
 "metadata": {
  "kernelspec": {
   "display_name": "Python 3",
   "language": "python",
   "name": "python3"
  },
  "language_info": {
   "codemirror_mode": {
    "name": "ipython",
    "version": 3
   },
   "file_extension": ".py",
   "mimetype": "text/x-python",
   "name": "python",
   "nbconvert_exporter": "python",
   "pygments_lexer": "ipython3",
   "version": "3.7.0"
  },
  "otter": {
   "tests": {
    "Task 1": {
     "name": "Task 1",
     "points": 20,
     "suites": [
      {
       "cases": [
        {
         "code": ">>> simpleCircuit().num_clbits == 1\nTrue",
         "failure_message": "Number of classical bits does not match expected.",
         "hidden": false,
         "locked": false,
         "points": 5
        },
        {
         "code": ">>> simpleCircuit().num_qubits == 1\nTrue",
         "failure_message": "Number of qubits does not match expected.",
         "hidden": false,
         "locked": false,
         "points": 5
        },
        {
         "code": ">>> def testMeasurementPerformedSimple():\n...     ops = simpleCircuit().count_ops()\n...     if 'measure' not in ops:\n...         return False\n...     return ops['measure'] == 1\n>>> \n>>> testMeasurementPerformedSimple()\nTrue",
         "failure_message": "Remember to perform a measurement.",
         "hidden": false,
         "locked": false,
         "points": 5
        },
        {
         "code": ">>> def testProbabilitiesSimple():\n...     qc = simpleCircuit()\n...     job = execute(qc, BasicAer.get_backend('statevector_simulator'), shots=1)\n...     return list(job.result().get_statevector(qc)) == [1,0]\n>>> \n>>> testProbabilitiesSimple()\nTrue",
         "failure_message": "Got unexpected state.",
         "hidden": false,
         "locked": false,
         "points": 5
        }
       ],
       "scored": true,
       "setup": "",
       "teardown": "",
       "type": "doctest"
      }
     ]
    },
    "Task 3": {
     "name": "Task 3",
     "points": 10,
     "suites": [
      {
       "cases": [
        {
         "code": ">>> '0' in counts and counts['0'] == 468\nTrue",
         "hidden": false,
         "locked": false,
         "points": 10
        }
       ],
       "scored": true,
       "setup": "",
       "teardown": "",
       "type": "doctest"
      }
     ]
    },
    "Task 5": {
     "name": "Task 5",
     "points": 15,
     "suites": [
      {
       "cases": [
        {
         "code": ">>> opposites().num_clbits == 2\nTrue",
         "failure_message": "Unexpected number of classical bits.",
         "hidden": false,
         "locked": false,
         "points": 3
        },
        {
         "code": ">>> opposites().num_qubits == 2\nTrue",
         "failure_message": "Unexpected number of qubits.",
         "hidden": false,
         "locked": false,
         "points": 3
        },
        {
         "code": ">>> def testMeasurementsPerformedOpposites():\n...     ops = opposites().count_ops()\n...     if 'measure' not in ops:\n...         return False\n...     return ops['measure'] == 2\n>>> \n>>> testMeasurementsPerformedOpposites()\nTrue",
         "failure_message": "Measured unexpected state.",
         "hidden": false,
         "locked": false,
         "points": 4
        },
        {
         "code": ">>> def testProbabilitiesOpposites():\n...     qc = opposites().reverse_bits()\n...     job = execute(qc, BasicAer.get_backend('statevector_simulator'), shots=10)\n...     return list(job.result().get_statevector(qc)) == [0, 1, 0, 0]\n>>> \n>>> testProbabilitiesOpposites()\nTrue",
         "failure_message": "Measured unexpected state.",
         "hidden": false,
         "locked": false,
         "points": 5
        }
       ],
       "scored": true,
       "setup": "",
       "teardown": "",
       "type": "doctest"
      }
     ]
    },
    "Task 6": {
     "name": "Task 6",
     "points": 15,
     "suites": [
      {
       "cases": [
        {
         "code": ">>> '01' in counts_oppo and counts_oppo['01'] == 468\nTrue",
         "hidden": false,
         "locked": false,
         "points": 15
        }
       ],
       "scored": true,
       "setup": "",
       "teardown": "",
       "type": "doctest"
      }
     ]
    }
   }
  }
 },
 "nbformat": 4,
 "nbformat_minor": 5
}
